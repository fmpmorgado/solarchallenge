{
 "cells": [
  {
   "cell_type": "code",
   "execution_count": 1,
   "id": "ab3e15ff-d66d-4c04-be62-08ddc3cfba38",
   "metadata": {},
   "outputs": [],
   "source": [
    "import solarchallenge"
   ]
  },
  {
   "cell_type": "markdown",
   "id": "ea9c4444-cbdc-4db2-bcde-85e4ce8fd6d0",
   "metadata": {},
   "source": [
    "# Test jupyter notebook"
   ]
  },
  {
   "cell_type": "code",
   "execution_count": null,
   "id": "3a5b8b38-4860-4ac3-a19a-2be00754f2f2",
   "metadata": {},
   "outputs": [],
   "source": []
  },
  {
   "cell_type": "code",
   "execution_count": null,
   "id": "e20ed95e-be41-44a5-bf06-7144d2a172cc",
   "metadata": {},
   "outputs": [],
   "source": []
  }
 ],
 "metadata": {
  "kernelspec": {
   "display_name": "Python 3 (ipykernel)",
   "language": "python",
   "name": "python3"
  },
  "language_info": {
   "codemirror_mode": {
    "name": "ipython",
    "version": 3
   },
   "file_extension": ".py",
   "mimetype": "text/x-python",
   "name": "python",
   "nbconvert_exporter": "python",
   "pygments_lexer": "ipython3",
   "version": "3.10.12"
  }
 },
 "nbformat": 4,
 "nbformat_minor": 5
}
